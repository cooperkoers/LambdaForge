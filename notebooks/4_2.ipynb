{
 "cells": [
  {
   "cell_type": "code",
   "execution_count": 5,
   "metadata": {},
   "outputs": [],
   "source": [
    "import sys\n",
    "import os"
   ]
  },
  {
   "cell_type": "code",
   "execution_count": 6,
   "metadata": {},
   "outputs": [],
   "source": [
    "# Append the 'src' directory to the Python path\n",
    "sys.path.append(os.path.abspath('../src'))"
   ]
  },
  {
   "cell_type": "code",
   "execution_count": 10,
   "metadata": {},
   "outputs": [],
   "source": [
    "from lambda_terms import *\n",
    "from recombinator import *\n",
    "from tree_form import *\n",
    "from util_exprs import *\n",
    "from chain_beta import *"
   ]
  },
  {
   "cell_type": "code",
   "execution_count": 24,
   "metadata": {},
   "outputs": [
    {
     "name": "stdout",
     "output_type": "stream",
     "text": [
      "Expressions to be recombined: [Abstraction(m, λn.λf.λx.((((m) (((n) (f))))) (x))), Abstraction(m, λn.λf.λx.((((m) (f))) (((((n) (f))) (x)))))] using method: blind_recombination\n",
      "Ranomly selected abstraction: λm.λn.λf.λx.((((m) (f))) (((((n) (f))) (x))))\n",
      "Randomly selected argument: λm.λn.λf.λx.((((m) (f))) (((((n) (f))) (x))))\n",
      "Type of abstraction: <class 'lambda_terms.Abstraction'>\n",
      "Type of argument: <class 'lambda_terms.Abstraction'>\n",
      "Recombined Expression: ((λm.λn.λf.λx.((((m) (f))) (((((n) (f))) (x))))) (λm.λn.λf.λx.((((m) (f))) (((((n) (f))) (x))))))\n",
      "Beta reducing: ((λm.λn.λf.λx.((((m) (f))) (((((n) (f))) (x))))) (λm.λn.λf.λx.((((m) (f))) (((((n) (f))) (x))))))\n",
      "Substituting m with λm.λn.λf.λx.((((m) (f))) (((((n) (f))) (x))))\n",
      "After Beta Reduction: λn.λf.λx.((((λm.λn.λf.λx.((((m) (f))) (((((n) (f))) (x))))) (f))) (((((n) (f))) (x))))\n"
     ]
    }
   ],
   "source": [
    "recom_ex = Recombinator([MULTIPLY, ADD], method='blind_recombination')\n",
    "print(recom_ex)\n",
    "recombined_expression = recom_ex.recombine()\n",
    "print(\"Recombined Expression:\", recombined_expression)\n",
    "beta_reduce = recombined_expression.beta_reduce()\n",
    "print(\"After Beta Reduction:\", beta_reduce)"
   ]
  }
 ],
 "metadata": {
  "kernelspec": {
   "display_name": "Python 3",
   "language": "python",
   "name": "python3"
  },
  "language_info": {
   "codemirror_mode": {
    "name": "ipython",
    "version": 3
   },
   "file_extension": ".py",
   "mimetype": "text/x-python",
   "name": "python",
   "nbconvert_exporter": "python",
   "pygments_lexer": "ipython3",
   "version": "3.11.3"
  }
 },
 "nbformat": 4,
 "nbformat_minor": 2
}
