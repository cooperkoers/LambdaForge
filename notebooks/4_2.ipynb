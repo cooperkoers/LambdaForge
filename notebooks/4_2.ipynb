{
 "cells": [
  {
   "cell_type": "code",
   "execution_count": 5,
   "metadata": {},
   "outputs": [],
   "source": [
    "import sys\n",
    "import os"
   ]
  },
  {
   "cell_type": "code",
   "execution_count": 6,
   "metadata": {},
   "outputs": [],
   "source": [
    "# Append the 'src' directory to the Python path\n",
    "sys.path.append(os.path.abspath('../src'))"
   ]
  },
  {
   "cell_type": "code",
   "execution_count": 81,
   "metadata": {},
   "outputs": [],
   "source": [
    "from lambda_terms import *\n",
    "from recombinator import *\n",
    "from tree_form import *\n",
    "from util_exprs import *\n",
    "from chain_beta import *"
   ]
  },
  {
   "cell_type": "code",
   "execution_count": null,
   "metadata": {},
   "outputs": [
    {
     "data": {
      "text/plain": [
       "Number(2)"
      ]
     },
     "execution_count": 82,
     "metadata": {},
     "output_type": "execute_result"
    }
   ],
   "source": [
    "Number(2)."
   ]
  },
  {
   "cell_type": "code",
   "execution_count": 86,
   "metadata": {},
   "outputs": [
    {
     "name": "stdout",
     "output_type": "stream",
     "text": [
      "Expressions to be recombined: [Abstraction(m, λn.λf.λx.((((m) (((n) (f))))) (x))), Abstraction(m, λn.((((m) (((n) (m))))) (x)))] using method: blind_recombination\n",
      "Ranomly selected abstraction: λm.λn.λf.λx.((((m) (((n) (f))))) (x))\n",
      "Randomly selected argument: λm.λn.λf.λx.((((m) (((n) (f))))) (x))\n",
      "Type of abstraction: <class 'lambda_terms.Abstraction'>\n",
      "Type of argument: <class 'lambda_terms.Abstraction'>\n",
      "Recombined Expression: ((λm.λn.λf.λx.((((m) (((n) (f))))) (x))) (λm.λn.λf.λx.((((m) (((n) (f))))) (x))))\n",
      "Beta reducing: ((λm.λn.λf.λx.((((m) (((n) (f))))) (x))) (λm.λn.λf.λx.((((m) (((n) (f))))) (x))))\n",
      "Substituting m with λm.λn.λf.λx.((((m) (((n) (f))))) (x))\n",
      "After Beta Reduction: λn.λf.λx.((((λm.λn.λf.λx.((((m) (((n) (f))))) (x))) (((n) (f))))) (x))\n",
      "Type of recombined_expression: <class 'lambda_terms.Abstraction'>\n"
     ]
    }
   ],
   "source": [
    "recom_ex = Recombinator([MULTIPLY, EXPONENTIATE], method='blind_recombination')\n",
    "print(recom_ex)\n",
    "recombined_expression = recom_ex.recombine()\n",
    "print(\"Recombined Expression:\", recombined_expression)\n",
    "beta_reduce = recombined_expression.beta_reduce()\n",
    "print(\"After Beta Reduction:\", beta_reduce)\n",
    "print(f\"Type of recombined_expression: {type(beta_reduce)}\")\n"
   ]
  },
  {
   "cell_type": "code",
   "execution_count": 113,
   "metadata": {},
   "outputs": [
    {
     "name": "stdout",
     "output_type": "stream",
     "text": [
      "Beta reducing: ((λm.λn.λf.λx.((((m) (((n) (f))))) (x))) ([Abstraction(m, λn.λf.λx.((((m) (f))) (((((n) (f))) (x)))))]))\n",
      "Substituting m with [Abstraction(m, λn.λf.λx.((((m) (f))) (((((n) (f))) (x)))))]\n",
      "Beta reducing: ((λm.λn.((((m) (((n) (m))))) (x))) ([Abstraction(m, λn.λf.λx.((((m) (((n) (f))))) (x)))]))\n",
      "Substituting m with [Abstraction(m, λn.λf.λx.((((m) (((n) (f))))) (x)))]\n",
      "Expressions to be recombined: [Abstraction(n, λf.λx.(((([Abstraction(m, λn.λf.λx.((((m) (f))) (((((n) (f))) (x)))))]) (((n) (f))))) (x))), Abstraction(n, (((([Abstraction(m, λn.λf.λx.((((m) (((n) (f))))) (x)))]) (((n) ([Abstraction(m, λn.λf.λx.((((m) (((n) (f))))) (x)))]))))) (x)))] using method: blind_recombination\n"
     ]
    },
    {
     "ename": "NameError",
     "evalue": "name 'Number' is not defined",
     "output_type": "error",
     "traceback": [
      "\u001b[0;31m---------------------------------------------------------------------------\u001b[0m",
      "\u001b[0;31mNameError\u001b[0m                                 Traceback (most recent call last)",
      "Cell \u001b[0;32mIn[113], line 6\u001b[0m\n\u001b[1;32m      4\u001b[0m recom_ex \u001b[38;5;241m=\u001b[39m Recombinator([complex_term1, complex_term2], method\u001b[38;5;241m=\u001b[39m\u001b[38;5;124m'\u001b[39m\u001b[38;5;124mblind_recombination\u001b[39m\u001b[38;5;124m'\u001b[39m)\n\u001b[1;32m      5\u001b[0m \u001b[38;5;28mprint\u001b[39m(recom_ex)\n\u001b[0;32m----> 6\u001b[0m recombined_expression \u001b[38;5;241m=\u001b[39m \u001b[43mrecom_ex\u001b[49m\u001b[38;5;241;43m.\u001b[39;49m\u001b[43mrecombine\u001b[49m\u001b[43m(\u001b[49m\u001b[43m)\u001b[49m\n\u001b[1;32m      7\u001b[0m \u001b[38;5;28mprint\u001b[39m(\u001b[38;5;124m\"\u001b[39m\u001b[38;5;124mRecombined Expression:\u001b[39m\u001b[38;5;124m\"\u001b[39m, recombined_expression)\n\u001b[1;32m      8\u001b[0m beta_reduce \u001b[38;5;241m=\u001b[39m recombined_expression\u001b[38;5;241m.\u001b[39mbeta_reduce()\n",
      "File \u001b[0;32m~/LambdaForge/LambdaForge/src/recombinator.py:32\u001b[0m, in \u001b[0;36mRecombinator.recombine\u001b[0;34m(self)\u001b[0m\n\u001b[1;32m     29\u001b[0m     \u001b[38;5;28;01mreturn\u001b[39;00m FunctionApplication(\u001b[38;5;28mself\u001b[39m\u001b[38;5;241m.\u001b[39mexpr[\u001b[38;5;241m0\u001b[39m], \u001b[38;5;28mself\u001b[39m\u001b[38;5;241m.\u001b[39mexpr[\u001b[38;5;241m1\u001b[39m])\n\u001b[1;32m     30\u001b[0m \u001b[38;5;28;01melif\u001b[39;00m \u001b[38;5;28mself\u001b[39m\u001b[38;5;241m.\u001b[39mmethod \u001b[38;5;241m==\u001b[39m \u001b[38;5;124m'\u001b[39m\u001b[38;5;124mblind_recombination\u001b[39m\u001b[38;5;124m'\u001b[39m:\n\u001b[1;32m     31\u001b[0m     \u001b[38;5;66;03m# Blind recombination: create a new expression that combines the first two at random nodes\u001b[39;00m\n\u001b[0;32m---> 32\u001b[0m     tree1 \u001b[38;5;241m=\u001b[39m \u001b[43mtree_form\u001b[49m\u001b[43m(\u001b[49m\u001b[38;5;28;43mself\u001b[39;49m\u001b[38;5;241;43m.\u001b[39;49m\u001b[43mexpr\u001b[49m\u001b[43m[\u001b[49m\u001b[38;5;241;43m0\u001b[39;49m\u001b[43m]\u001b[49m\u001b[43m)\u001b[49m\n\u001b[1;32m     33\u001b[0m     tree2 \u001b[38;5;241m=\u001b[39m tree_form(\u001b[38;5;28mself\u001b[39m\u001b[38;5;241m.\u001b[39mexpr[\u001b[38;5;241m1\u001b[39m])\n\u001b[1;32m     34\u001b[0m     main_tree \u001b[38;5;241m=\u001b[39m tree1 \u001b[38;5;241m+\u001b[39m tree2\n",
      "File \u001b[0;32m~/LambdaForge/LambdaForge/src/tree_form.py:13\u001b[0m, in \u001b[0;36mtree_form\u001b[0;34m(object)\u001b[0m\n\u001b[1;32m     11\u001b[0m \u001b[38;5;28;01melif\u001b[39;00m \u001b[38;5;28misinstance\u001b[39m(\u001b[38;5;28mobject\u001b[39m, Abstraction):\n\u001b[1;32m     12\u001b[0m     permutations\u001b[38;5;241m.\u001b[39mappend(\u001b[38;5;28mobject\u001b[39m)\n\u001b[0;32m---> 13\u001b[0m     permutations\u001b[38;5;241m.\u001b[39mappend(\u001b[43mtree_form\u001b[49m\u001b[43m(\u001b[49m\u001b[38;5;28;43mobject\u001b[39;49m\u001b[38;5;241;43m.\u001b[39;49m\u001b[43mbody\u001b[49m\u001b[43m)\u001b[49m)\n\u001b[1;32m     14\u001b[0m \u001b[38;5;28;01melif\u001b[39;00m \u001b[38;5;28misinstance\u001b[39m(\u001b[38;5;28mobject\u001b[39m, Var):\n\u001b[1;32m     15\u001b[0m     permutations\u001b[38;5;241m.\u001b[39mappend(\u001b[38;5;28mobject\u001b[39m)\n",
      "File \u001b[0;32m~/LambdaForge/LambdaForge/src/tree_form.py:13\u001b[0m, in \u001b[0;36mtree_form\u001b[0;34m(object)\u001b[0m\n\u001b[1;32m     11\u001b[0m \u001b[38;5;28;01melif\u001b[39;00m \u001b[38;5;28misinstance\u001b[39m(\u001b[38;5;28mobject\u001b[39m, Abstraction):\n\u001b[1;32m     12\u001b[0m     permutations\u001b[38;5;241m.\u001b[39mappend(\u001b[38;5;28mobject\u001b[39m)\n\u001b[0;32m---> 13\u001b[0m     permutations\u001b[38;5;241m.\u001b[39mappend(\u001b[43mtree_form\u001b[49m\u001b[43m(\u001b[49m\u001b[38;5;28;43mobject\u001b[39;49m\u001b[38;5;241;43m.\u001b[39;49m\u001b[43mbody\u001b[49m\u001b[43m)\u001b[49m)\n\u001b[1;32m     14\u001b[0m \u001b[38;5;28;01melif\u001b[39;00m \u001b[38;5;28misinstance\u001b[39m(\u001b[38;5;28mobject\u001b[39m, Var):\n\u001b[1;32m     15\u001b[0m     permutations\u001b[38;5;241m.\u001b[39mappend(\u001b[38;5;28mobject\u001b[39m)\n",
      "File \u001b[0;32m~/LambdaForge/LambdaForge/src/tree_form.py:13\u001b[0m, in \u001b[0;36mtree_form\u001b[0;34m(object)\u001b[0m\n\u001b[1;32m     11\u001b[0m \u001b[38;5;28;01melif\u001b[39;00m \u001b[38;5;28misinstance\u001b[39m(\u001b[38;5;28mobject\u001b[39m, Abstraction):\n\u001b[1;32m     12\u001b[0m     permutations\u001b[38;5;241m.\u001b[39mappend(\u001b[38;5;28mobject\u001b[39m)\n\u001b[0;32m---> 13\u001b[0m     permutations\u001b[38;5;241m.\u001b[39mappend(\u001b[43mtree_form\u001b[49m\u001b[43m(\u001b[49m\u001b[38;5;28;43mobject\u001b[39;49m\u001b[38;5;241;43m.\u001b[39;49m\u001b[43mbody\u001b[49m\u001b[43m)\u001b[49m)\n\u001b[1;32m     14\u001b[0m \u001b[38;5;28;01melif\u001b[39;00m \u001b[38;5;28misinstance\u001b[39m(\u001b[38;5;28mobject\u001b[39m, Var):\n\u001b[1;32m     15\u001b[0m     permutations\u001b[38;5;241m.\u001b[39mappend(\u001b[38;5;28mobject\u001b[39m)\n",
      "File \u001b[0;32m~/LambdaForge/LambdaForge/src/tree_form.py:9\u001b[0m, in \u001b[0;36mtree_form\u001b[0;34m(object)\u001b[0m\n\u001b[1;32m      7\u001b[0m \u001b[38;5;28;01mif\u001b[39;00m \u001b[38;5;28misinstance\u001b[39m(\u001b[38;5;28mobject\u001b[39m, FunctionApplication):\n\u001b[1;32m      8\u001b[0m     permutations\u001b[38;5;241m.\u001b[39mappend(\u001b[38;5;28mobject\u001b[39m)\n\u001b[0;32m----> 9\u001b[0m     permutations\u001b[38;5;241m.\u001b[39mappend(\u001b[43mtree_form\u001b[49m\u001b[43m(\u001b[49m\u001b[38;5;28;43mobject\u001b[39;49m\u001b[38;5;241;43m.\u001b[39;49m\u001b[43mfunc\u001b[49m\u001b[43m)\u001b[49m)\n\u001b[1;32m     10\u001b[0m     permutations\u001b[38;5;241m.\u001b[39mappend(tree_form(\u001b[38;5;28mobject\u001b[39m\u001b[38;5;241m.\u001b[39marg))\n\u001b[1;32m     11\u001b[0m \u001b[38;5;28;01melif\u001b[39;00m \u001b[38;5;28misinstance\u001b[39m(\u001b[38;5;28mobject\u001b[39m, Abstraction):\n",
      "File \u001b[0;32m~/LambdaForge/LambdaForge/src/tree_form.py:9\u001b[0m, in \u001b[0;36mtree_form\u001b[0;34m(object)\u001b[0m\n\u001b[1;32m      7\u001b[0m \u001b[38;5;28;01mif\u001b[39;00m \u001b[38;5;28misinstance\u001b[39m(\u001b[38;5;28mobject\u001b[39m, FunctionApplication):\n\u001b[1;32m      8\u001b[0m     permutations\u001b[38;5;241m.\u001b[39mappend(\u001b[38;5;28mobject\u001b[39m)\n\u001b[0;32m----> 9\u001b[0m     permutations\u001b[38;5;241m.\u001b[39mappend(\u001b[43mtree_form\u001b[49m\u001b[43m(\u001b[49m\u001b[38;5;28;43mobject\u001b[39;49m\u001b[38;5;241;43m.\u001b[39;49m\u001b[43mfunc\u001b[49m\u001b[43m)\u001b[49m)\n\u001b[1;32m     10\u001b[0m     permutations\u001b[38;5;241m.\u001b[39mappend(tree_form(\u001b[38;5;28mobject\u001b[39m\u001b[38;5;241m.\u001b[39marg))\n\u001b[1;32m     11\u001b[0m \u001b[38;5;28;01melif\u001b[39;00m \u001b[38;5;28misinstance\u001b[39m(\u001b[38;5;28mobject\u001b[39m, Abstraction):\n",
      "File \u001b[0;32m~/LambdaForge/LambdaForge/src/tree_form.py:16\u001b[0m, in \u001b[0;36mtree_form\u001b[0;34m(object)\u001b[0m\n\u001b[1;32m     14\u001b[0m \u001b[38;5;28;01melif\u001b[39;00m \u001b[38;5;28misinstance\u001b[39m(\u001b[38;5;28mobject\u001b[39m, Var):\n\u001b[1;32m     15\u001b[0m     permutations\u001b[38;5;241m.\u001b[39mappend(\u001b[38;5;28mobject\u001b[39m)\n\u001b[0;32m---> 16\u001b[0m \u001b[38;5;28;01melif\u001b[39;00m \u001b[38;5;28misinstance\u001b[39m(\u001b[38;5;28mobject\u001b[39m, \u001b[43mNumber\u001b[49m):\n\u001b[1;32m     17\u001b[0m     permutations\u001b[38;5;241m.\u001b[39mappend(\u001b[38;5;28mobject\u001b[39m)\n\u001b[1;32m     18\u001b[0m \u001b[38;5;28;01melse\u001b[39;00m:\n",
      "\u001b[0;31mNameError\u001b[0m: name 'Number' is not defined"
     ]
    }
   ],
   "source": [
    "complex_term1 = FunctionApplication(MULTIPLY, [ADD]).beta_reduce()\n",
    "complex_term2 = FunctionApplication(EXPONENTIATE, [MULTIPLY]).beta_reduce()\n",
    "\n",
    "recom_ex = Recombinator([complex_term1, complex_term2], method='blind_recombination')\n",
    "print(recom_ex)\n",
    "recombined_expression = recom_ex.recombine()\n",
    "print(\"Recombined Expression:\", recombined_expression)\n",
    "beta_reduce = recombined_expression.beta_reduce()\n",
    "print(\"After Beta Reduction:\", beta_reduce)\n",
    "print(f\"Type of recombined_expression: {type(beta_reduce)}\")\n"
   ]
  },
  {
   "cell_type": "code",
   "execution_count": 96,
   "metadata": {},
   "outputs": [
    {
     "name": "stdout",
     "output_type": "stream",
     "text": [
      "Beta reducing: ((λm.λn.λf.λx.((((m) (((n) (f))))) (x))) ([Abstraction(m, λn.λf.λx.((((m) (f))) (((((n) (f))) (x)))))]))\n",
      "Substituting m with [Abstraction(m, λn.λf.λx.((((m) (f))) (((((n) (f))) (x)))))]\n"
     ]
    },
    {
     "data": {
      "text/plain": [
       "Abstraction(n, λf.λx.(((([Abstraction(m, λn.λf.λx.((((m) (f))) (((((n) (f))) (x)))))]) (((n) (f))))) (x)))"
      ]
     },
     "execution_count": 96,
     "metadata": {},
     "output_type": "execute_result"
    }
   ],
   "source": [
    "FunctionApplication(MULTIPLY, [ADD]).beta_reduce()"
   ]
  }
 ],
 "metadata": {
  "kernelspec": {
   "display_name": "Python 3",
   "language": "python",
   "name": "python3"
  },
  "language_info": {
   "codemirror_mode": {
    "name": "ipython",
    "version": 3
   },
   "file_extension": ".py",
   "mimetype": "text/x-python",
   "name": "python",
   "nbconvert_exporter": "python",
   "pygments_lexer": "ipython3",
   "version": "3.11.3"
  }
 },
 "nbformat": 4,
 "nbformat_minor": 2
}
